{
 "cells": [
  {
   "cell_type": "code",
   "execution_count": 1,
   "id": "32039fc0-9924-4810-a177-8ea8cb054abb",
   "metadata": {},
   "outputs": [],
   "source": [
    "# !pip install tensorflow opencv-python matplotlib"
   ]
  },
  {
   "cell_type": "code",
   "execution_count": 7,
   "id": "4102d652-e732-4e96-be2e-91adc245d310",
   "metadata": {},
   "outputs": [],
   "source": [
    "# !pip install mediapipe"
   ]
  },
  {
   "cell_type": "code",
   "execution_count": 1,
   "id": "22dff38c-b52f-4fcd-b35b-e80f03c58e08",
   "metadata": {},
   "outputs": [],
   "source": [
    "import tensorflow as tf\n",
    "import numpy as np\n",
    "from matplotlib import pyplot as plt\n",
    "import cv2"
   ]
  },
  {
   "cell_type": "code",
   "execution_count": 2,
   "id": "65bee008-7553-47f9-8dce-c04e906a185b",
   "metadata": {},
   "outputs": [],
   "source": [
    "interpreter = tf.lite.Interpreter(model_path='lite-model_movenet_singlepose_lightning_3.tflite')\n",
    "interpreter.allocate_tensors()\n"
   ]
  },
  {
   "cell_type": "code",
   "execution_count": 11,
   "id": "de18d045-b98f-4458-be44-955256f3dbea",
   "metadata": {
    "scrolled": true,
    "tags": []
   },
   "outputs": [
    {
     "ename": "IndexError",
     "evalue": "index 1 is out of bounds for axis 1 with size 1",
     "output_type": "error",
     "traceback": [
      "\u001b[0;31m---------------------------------------------------------------------------\u001b[0m",
      "\u001b[0;31mIndexError\u001b[0m                                Traceback (most recent call last)",
      "\u001b[0;32m<ipython-input-11-feef56ee3944>\u001b[0m in \u001b[0;36m<module>\u001b[0;34m\u001b[0m\n\u001b[1;32m     20\u001b[0m     \u001b[0mkeypoints_for_resized\u001b[0m \u001b[0;34m=\u001b[0m \u001b[0mkeypoints_with_scores\u001b[0m\u001b[0;34m.\u001b[0m\u001b[0mcopy\u001b[0m\u001b[0;34m(\u001b[0m\u001b[0;34m)\u001b[0m\u001b[0;34m\u001b[0m\u001b[0;34m\u001b[0m\u001b[0m\n\u001b[1;32m     21\u001b[0m     \u001b[0mkeypoints_for_resized\u001b[0m\u001b[0;34m[\u001b[0m\u001b[0;34m:\u001b[0m\u001b[0;34m,\u001b[0m \u001b[0;36m0\u001b[0m\u001b[0;34m]\u001b[0m \u001b[0;34m*=\u001b[0m \u001b[0mimg_resized\u001b[0m\u001b[0;34m.\u001b[0m\u001b[0mshape\u001b[0m\u001b[0;34m[\u001b[0m\u001b[0;36m1\u001b[0m\u001b[0;34m]\u001b[0m\u001b[0;34m\u001b[0m\u001b[0;34m\u001b[0m\u001b[0m\n\u001b[0;32m---> 22\u001b[0;31m     \u001b[0mkeypoints_for_resized\u001b[0m\u001b[0;34m[\u001b[0m\u001b[0;34m:\u001b[0m\u001b[0;34m,\u001b[0m \u001b[0;36m1\u001b[0m\u001b[0;34m]\u001b[0m \u001b[0;34m*=\u001b[0m \u001b[0mimg_resized\u001b[0m\u001b[0;34m.\u001b[0m\u001b[0mshape\u001b[0m\u001b[0;34m[\u001b[0m\u001b[0;36m0\u001b[0m\u001b[0;34m]\u001b[0m\u001b[0;34m\u001b[0m\u001b[0;34m\u001b[0m\u001b[0m\n\u001b[0m\u001b[1;32m     23\u001b[0m     \u001b[0mdraw_keypoints\u001b[0m\u001b[0;34m(\u001b[0m\u001b[0mimg_resized\u001b[0m\u001b[0;34m,\u001b[0m \u001b[0mkeypoints_for_resized\u001b[0m\u001b[0;34m,\u001b[0m \u001b[0;36m0.4\u001b[0m\u001b[0;34m)\u001b[0m\u001b[0;34m\u001b[0m\u001b[0;34m\u001b[0m\u001b[0m\n\u001b[1;32m     24\u001b[0m     \u001b[0mcv2\u001b[0m\u001b[0;34m.\u001b[0m\u001b[0mimwrite\u001b[0m\u001b[0;34m(\u001b[0m\u001b[0;34m\"image_with_keypoints_resized.png\"\u001b[0m\u001b[0;34m,\u001b[0m \u001b[0mimg_resized\u001b[0m\u001b[0;34m)\u001b[0m\u001b[0;34m\u001b[0m\u001b[0;34m\u001b[0m\u001b[0m\n",
      "\u001b[0;31mIndexError\u001b[0m: index 1 is out of bounds for axis 1 with size 1"
     ]
    }
   ],
   "source": [
    "cap = cv2.VideoCapture(0)\n",
    "while cap.isOpened():\n",
    "    ret, frame = cap.read()\n",
    "    \n",
    "    # reshape image\n",
    "    img = frame.copy()\n",
    "    img = tf.image.resize_with_pad(tf.expand_dims(img, axis = 0), 192, 192)\n",
    "    input_image = tf.cast(img, dtype=tf.float32)\n",
    "    \n",
    "    # setup input and output\n",
    "    input_details = interpreter.get_input_details()\n",
    "    output_details = interpreter.get_output_details()\n",
    "    \n",
    "    # make predictions\n",
    "    interpreter.set_tensor(input_details[0]['index'], np.array(input_image))\n",
    "    interpreter.invoke()\n",
    "    keypoints_with_scores = interpreter.get_tensor(output_details[0]['index'])\n",
    "    # print(keypoints_with_scores)\n",
    "    img_resized = np.array(input_image).astype(np.uint8)[0]\n",
    "    keypoints_for_resized = keypoints_with_scores.copy()\n",
    "    keypoints_for_resized[:, 0] *= img_resized.shape[1]\n",
    "    keypoints_for_resized[:, 1] *= img_resized.shape[0]\n",
    "    draw_keypoints(img_resized, keypoints_for_resized, 0.4)\n",
    "    cv2.imwrite(\"image_with_keypoints_resized.png\", img_resized)\n",
    "\n",
    "    orig_w, orig_h = frame.shape[:2]\n",
    "    M = get_affine_transform_to_fixed_sizes_with_padding((orig_w, orig_h), (192, 192))\n",
    "    # M has shape 2x3 but we need square matrix when finding an inverse\n",
    "    M = np.vstack((M, [0, 0, 1]))\n",
    "    M_inv = np.linalg.inv(M)[:2]\n",
    "    xy_keypoints = keypoints_with_scores[:, :2] * 192\n",
    "    xy_keypoints = cv2.transform(np.array([xy_keypoints]), M_inv)[0]\n",
    "    keypoints_with_scores = np.hstack((xy_keypoints, keypoints_with_scores[:, 2:]))\n",
    "\n",
    "    # Rendering\n",
    "    draw_keypoints(frame, keypoints_with_scores, 0.4)\n",
    "    cv2.imwrite(\"image_with_keypoints_original.png\", frame)\n",
    "    # rendering\n",
    "    \"\"\"draw_connections(frame, keypoints_with_scores, EDGES, 0.4)\n",
    "    draw_keypoints(frame, keypoints_with_scores, 0.4)\"\"\"\n",
    "    \n",
    "    cv2.imshow(\"Movenet Lightning\", frame)\n",
    "    \n",
    "    if cv2.waitKey(10) & 0xFF==ord('q'):\n",
    "        break\n",
    "cap.release()\n",
    "cv2.destroyAllWindows()"
   ]
  },
  {
   "cell_type": "code",
   "execution_count": 10,
   "id": "75953df5-1d3a-4ba3-a754-50e5b408f06f",
   "metadata": {},
   "outputs": [],
   "source": [
    "def get_affine_transform_to_fixed_sizes_with_padding(size, new_sizes):\n",
    "    width, height = new_sizes\n",
    "    scale = min(height / float(size[1]), width / float(size[0]))\n",
    "    M = np.float32([[scale, 0, 0], [0, scale, 0]])\n",
    "    M[0][2] = (width - scale * size[0]) / 2\n",
    "    M[1][2] = (height - scale * size[1]) / 2\n",
    "    return M"
   ]
  },
  {
   "cell_type": "code",
   "execution_count": 1,
   "id": "6bc226f0-2e49-4e0d-bd97-f621c319aff7",
   "metadata": {},
   "outputs": [
    {
     "ename": "NameError",
     "evalue": "name 'keypoints_with_scores' is not defined",
     "output_type": "error",
     "traceback": [
      "\u001b[0;31m---------------------------------------------------------------------------\u001b[0m",
      "\u001b[0;31mNameError\u001b[0m                                 Traceback (most recent call last)",
      "\u001b[0;32m<ipython-input-1-d72b1146e1c8>\u001b[0m in \u001b[0;36m<module>\u001b[0;34m\u001b[0m\n\u001b[0;32m----> 1\u001b[0;31m \u001b[0mkeypoints_with_scores\u001b[0m\u001b[0;34m[\u001b[0m\u001b[0;36m0\u001b[0m\u001b[0;34m]\u001b[0m\u001b[0;34m[\u001b[0m\u001b[0;36m0\u001b[0m\u001b[0;34m]\u001b[0m\u001b[0;34m[\u001b[0m\u001b[0;36m4\u001b[0m\u001b[0;34m]\u001b[0m\u001b[0;34m[\u001b[0m\u001b[0;34m:\u001b[0m\u001b[0;36m2\u001b[0m\u001b[0;34m]\u001b[0m\u001b[0;34m\u001b[0m\u001b[0;34m\u001b[0m\u001b[0m\n\u001b[0m",
      "\u001b[0;31mNameError\u001b[0m: name 'keypoints_with_scores' is not defined"
     ]
    }
   ],
   "source": [
    "keypoints_with_scores[0][0][4][:2]"
   ]
  },
  {
   "cell_type": "code",
   "execution_count": 13,
   "id": "34c59fb2-6c8d-4ffa-9190-324c2cca65af",
   "metadata": {
    "scrolled": true,
    "tags": []
   },
   "outputs": [
    {
     "data": {
      "text/plain": [
       "array([0.47637603, 0.51566744, 0.6938343 ], dtype=float32)"
      ]
     },
     "execution_count": 13,
     "metadata": {},
     "output_type": "execute_result"
    }
   ],
   "source": [
    "# nose, left eye, right eye, left ear, right ear, left shoulder, right shoulder, left elbow, right elbow, \n",
    "# left wrist, right wrist, left hip, right hip, left knee, right knee, left ankle, right ankle\n",
    "\n",
    "right_eye = keypoints_with_scores[0][0][2]\n",
    "right_eye\n",
    "\n",
    "# this one is right eye"
   ]
  },
  {
   "cell_type": "code",
   "execution_count": 14,
   "id": "3866747c-0f7e-441b-9df0-0e64f147ee74",
   "metadata": {},
   "outputs": [
    {
     "data": {
      "text/plain": [
       "array([228, 330])"
      ]
     },
     "execution_count": 14,
     "metadata": {},
     "output_type": "execute_result"
    }
   ],
   "source": [
    "# 480, 640 is frame shape\n",
    "np.array(right_eye[:2]*[480,640]).astype(int)"
   ]
  },
  {
   "cell_type": "code",
   "execution_count": 3,
   "id": "ced1ce46-70be-49f5-ba8a-a0f2f25e940e",
   "metadata": {},
   "outputs": [],
   "source": [
    "def draw_keypoints(frame, keypoints, confidence_threshold):\n",
    "    y, x, c = frame.shape\n",
    "    shaped = np.squeeze(np.multiply(keypoints, [y, x, 1])) # confidence metric c, dont transform that\n",
    "    \n",
    "    for kp in shaped:\n",
    "        ky, kx, kp_conf = kp\n",
    "        if kp_conf > confidence_threshold:\n",
    "            cv2.circle(frame, (int(kx), int(ky)), 4, (0,255,0), -1) #.circle creates circle, 4 is size, 255 is color green, -1 is fill circle"
   ]
  },
  {
   "cell_type": "code",
   "execution_count": 14,
   "id": "14242172-3632-4533-9938-88519023bf1f",
   "metadata": {},
   "outputs": [],
   "source": [
    "# pip install --upgrade tensorflow\n",
    "# pip install --upgrade numpy\n",
    "# pip install --upgrade scipy\n",
    "# pip install --upgrade h5py"
   ]
  },
  {
   "cell_type": "code",
   "execution_count": 4,
   "id": "ae559040-2476-4f5d-8657-33c039f54353",
   "metadata": {},
   "outputs": [],
   "source": [
    "# nose, left eye, right eye, left ear, right ear, \n",
    "# left shoulder, right shoulder, left elbow, right elbow, \n",
    "# left wrist, right wrist, left hip, right hip, left knee, right knee, left ankle, right ankle\n",
    "\n",
    "EDGES = {\n",
    "    (0, 1): 'm',\n",
    "    (0, 2): 'c',\n",
    "    (1, 3): 'm',\n",
    "    (2, 4): 'c',\n",
    "    (0, 5): 'm',\n",
    "    (0, 6): 'c',\n",
    "    (5, 7): 'm',\n",
    "    (7, 9): 'm',\n",
    "    (6, 8): 'c',\n",
    "    (8, 10): 'c',\n",
    "    (5, 6): 'y',\n",
    "    (5, 11): 'm',\n",
    "    (6, 12): 'c',\n",
    "    (11, 12): 'y',\n",
    "    (11, 13): 'm',\n",
    "    (13, 15): 'm',\n",
    "    (12, 14): 'c',\n",
    "    (14, 16): 'c'\n",
    "}"
   ]
  },
  {
   "cell_type": "code",
   "execution_count": 5,
   "id": "4bdb4fdc-8efc-4d80-bff6-708465fdacfc",
   "metadata": {},
   "outputs": [],
   "source": [
    "def draw_connections(frame, keypoints, edges, confidence_threshold):\n",
    "    y, x, c = frame.shape\n",
    "    shaped = np.squeeze(np.multiply(keypoints, [y,x,1]))\n",
    "    \n",
    "    for edge, color in edges.items():\n",
    "        p1, p2 = edge\n",
    "        y1, x1, c1 = shaped[p1]\n",
    "        y2, x2, c2 = shaped[p2]\n",
    "        \n",
    "        if (c1 > confidence_threshold) & (c2 > confidence_threshold):      \n",
    "            cv2.line(frame, (int(x1), int(y1)), (int(x2), int(y2)), (0,0,255), 2)"
   ]
  },
  {
   "cell_type": "code",
   "execution_count": null,
   "id": "c3863498-a869-4079-a271-b0197294f94c",
   "metadata": {},
   "outputs": [],
   "source": []
  }
 ],
 "metadata": {
  "kernelspec": {
   "display_name": "Python 3",
   "language": "python",
   "name": "python3"
  },
  "language_info": {
   "codemirror_mode": {
    "name": "ipython",
    "version": 3
   },
   "file_extension": ".py",
   "mimetype": "text/x-python",
   "name": "python",
   "nbconvert_exporter": "python",
   "pygments_lexer": "ipython3",
   "version": "3.8.8"
  }
 },
 "nbformat": 4,
 "nbformat_minor": 5
}
