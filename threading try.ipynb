{
 "cells": [
  {
   "cell_type": "code",
   "execution_count": 5,
   "id": "f8469c0b-5631-4663-8e60-bc39fb49430e",
   "metadata": {},
   "outputs": [],
   "source": [
    "import tensorflow as tf\n",
    "import numpy as np\n",
    "from matplotlib import pyplot as plt\n",
    "import cv2\n",
    "import os\n",
    "import threading"
   ]
  },
  {
   "cell_type": "code",
   "execution_count": null,
   "id": "a5ef6d45-4341-48b9-ab1f-8ac4cc431fbb",
   "metadata": {},
   "outputs": [],
   "source": [
    "def frame_array(video, info):\n",
    "    all_frames = []\n",
    "    cap = cv2.VideoCapture(os.path.join('videos',video))\n",
    "    fps = cap.get(cv2.CAP_PROP_FPS)\n",
    "    dimensions = (int(cap.get(3)),int(cap.get(4)))\n",
    "    for frame_idx in range(int(cap.get(cv2.CAP_PROP_FRAME_COUNT))):\n",
    "        ret, frame = cap.read()\n",
    "        \"\"\"try:\n",
    "            frame = cv2.resize(frame, (200,200))\n",
    "        except:\n",
    "            break\"\"\"\n",
    "        all_frames.append(frame)\n",
    "        if cv2.waitKey(10) & 0xFF == ord('q'):\n",
    "            break\n",
    "\n",
    "    # Close down everything\n",
    "    if info:\n",
    "        dimensions = (int(cap.get(3)),int(cap.get(4)))\n",
    "        fps = cap.get(cv2.CAP_PROP_FPS)\n",
    "        cap.release()\n",
    "        cv2.destroyAllWindows()\n",
    "        return all_frames, fps, dimensions\n",
    "    else:\n",
    "        return all_frames"
   ]
  },
  {
   "cell_type": "code",
   "execution_count": null,
   "id": "daff2a64-0a53-4e2a-9e11-0a7cc3210767",
   "metadata": {},
   "outputs": [],
   "source": [
    "all_frames_vid2, fps2, dimensions2 = frame_array(\"5 sec jumping jacks.mp4\", True)"
   ]
  },
  {
   "cell_type": "code",
   "execution_count": null,
   "id": "e6b56726-cfab-424b-b919-8d8fc871945b",
   "metadata": {},
   "outputs": [],
   "source": [
    "def display_video2(all_frames_vid2, speed):\n",
    "    #cv2.namedWindow('Video2', cv2.WINDOW_NORMAL)\n",
    "\n",
    "    for frame_idx, frame2 in enumerate(all_frames_vid2):\n",
    "        if frame2 is None:\n",
    "            break\n",
    "        cv2.imshow('Video2', frame2)\n",
    "        if cv2.waitKey(speed) & 0xFF == ord('q'):\n",
    "            break\n",
    "\n",
    "def display_live_stream(cap_live, live_frames):\n",
    "    while True:\n",
    "        ret_live, frame_live = cap_live.read()\n",
    "        if not ret_live:\n",
    "            break\n",
    "\n",
    "        # Process live frame if needed (e.g., for synchronization)\n",
    "        # ...\n",
    "\n",
    "        live_frames.append(frame_live)\n",
    "        # cv2.imshow('Live Stream', live_frames[-1])  # Display latest live frame\n",
    "        if cv2.waitKey(1) & 0xFF == ord('q'):  # Check for quit key every frame\n",
    "            break\n",
    "\n",
    "if __name__ == '__main__':\n",
    "    # Read video2 frames\n",
    "\n",
    "    # Initialize live video capture\n",
    "    cap_live = cv2.VideoCapture(0)  # Replace 0 with video source ID if needed\n",
    "\n",
    "    # Create a list to store live frames (optional for potential synchronization)\n",
    "    live_frames = []\n",
    "\n",
    "    # Create threads\n",
    "    video2_thread = threading.Thread(target=display_video2, args=(all_frames_vid2, 1))\n",
    "    live_stream_thread = threading.Thread(target=display_live_stream, args=(cap_live, live_frames))\n",
    "\n",
    "    # Start threads\n",
    "    video2_thread.start()\n",
    "    live_stream_thread.start()\n",
    "\n",
    "    # Wait for threads to finish\n",
    "    video2_thread.join()\n",
    "    live_stream_thread.join()\n",
    "\n",
    "    # Release resources\n",
    "    cap_live.release()\n",
    "    cv2.destroyAllWindows()"
   ]
  },
  {
   "cell_type": "code",
   "execution_count": null,
   "id": "66d7b1ae-9e7d-4d41-b1b8-4d86624666bc",
   "metadata": {},
   "outputs": [],
   "source": [
    "def display_video2(all_frames_vid2, speed):\n",
    "    for frame_idx, frame2 in enumerate(all_frames_vid2):\n",
    "        if frame2 is None:\n",
    "            break\n",
    "        cv2.imshow('Video2', frame2)\n",
    "        if cv2.waitKey(speed) & 0xFF == ord('q'):\n",
    "            break\n",
    "\n",
    "def capture_live_frames(cap_live, live_frames):\n",
    "    while True:\n",
    "        ret_live, frame_live = cap_live.read()\n",
    "        if not ret_live:\n",
    "            break\n",
    "        live_frames.append(frame_live)\n",
    "\n",
    "if __name__ == '__main__':\n",
    "    # Read video2 frames\n",
    "    # all_frames_vid2 = ...  # Your video reading logic\n",
    "\n",
    "    # Initialize live video capture\n",
    "    cap_live = cv2.VideoCapture(0)  # Replace 0 with video source ID if needed\n",
    "\n",
    "    # Create a list to store live frames\n",
    "    live_frames = []\n",
    "\n",
    "    # Create threads\n",
    "    video2_thread = threading.Thread(target=display_video2, args=(all_frames_vid2, 1))\n",
    "    capture_thread = threading.Thread(target=capture_live_frames, args=(cap_live, live_frames))\n",
    "\n",
    "    # Start threads\n",
    "    video2_thread.start()\n",
    "    capture_thread.start()\n",
    "    \n",
    "    if video2_thread.is_alive():\n",
    "        print(\"video2_thread is still running\")\n",
    "    if capture_thread.is_alive():\n",
    "        print(\"capture_thread is still running\")\n",
    "\n",
    "    # Wait for threads to finish\n",
    "    video2_thread.join()\n",
    "    capture_thread.join()\n",
    "\n",
    "    # Now you have live frames in the live_frames list\n",
    "    print(len(live_frames))  # Number of captured frames\n",
    "\n",
    "    # Release resources\n",
    "    cap_live.release()\n",
    "    cv2.destroyAllWindows()"
   ]
  },
  {
   "cell_type": "code",
   "execution_count": null,
   "id": "336081cc-ec45-4d61-bdeb-0f612eb1eeee",
   "metadata": {},
   "outputs": [],
   "source": [
    "all_frames_vid2"
   ]
  },
  {
   "cell_type": "code",
   "execution_count": 4,
   "id": "84c24bd4-60e7-46d0-b668-c36feca2ae30",
   "metadata": {},
   "outputs": [
    {
     "name": "stdout",
     "output_type": "stream",
     "text": [
      "Python 3.8.8\n"
     ]
    }
   ],
   "source": [
    "!python --version"
   ]
  },
  {
   "cell_type": "code",
   "execution_count": 5,
   "id": "12aba298-633d-4833-abbc-0ea64842194f",
   "metadata": {},
   "outputs": [
    {
     "ename": "NameError",
     "evalue": "name 'cv2' is not defined",
     "output_type": "error",
     "traceback": [
      "\u001b[0;31m---------------------------------------------------------------------------\u001b[0m",
      "\u001b[0;31mNameError\u001b[0m                                 Traceback (most recent call last)",
      "\u001b[0;32m<ipython-input-5-e2ab67e02c2c>\u001b[0m in \u001b[0;36m<module>\u001b[0;34m\u001b[0m\n\u001b[0;32m----> 1\u001b[0;31m \u001b[0mcv2\u001b[0m\u001b[0;34m.\u001b[0m\u001b[0mversion\u001b[0m\u001b[0;34m\u001b[0m\u001b[0;34m\u001b[0m\u001b[0m\n\u001b[0m",
      "\u001b[0;31mNameError\u001b[0m: name 'cv2' is not defined"
     ]
    }
   ],
   "source": [
    "cv2.version"
   ]
  },
  {
   "cell_type": "code",
   "execution_count": null,
   "id": "bfff5460-a442-4508-bda6-39e53689037c",
   "metadata": {},
   "outputs": [],
   "source": []
  }
 ],
 "metadata": {
  "kernelspec": {
   "display_name": "Python 3",
   "language": "python",
   "name": "python3"
  },
  "language_info": {
   "codemirror_mode": {
    "name": "ipython",
    "version": 3
   },
   "file_extension": ".py",
   "mimetype": "text/x-python",
   "name": "python",
   "nbconvert_exporter": "python",
   "pygments_lexer": "ipython3",
   "version": "3.8.8"
  }
 },
 "nbformat": 4,
 "nbformat_minor": 5
}
