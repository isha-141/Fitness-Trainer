{
 "cells": [
  {
   "cell_type": "code",
   "execution_count": 4,
   "id": "edfd6c2f-b314-43fa-9611-11c534c4eb35",
   "metadata": {},
   "outputs": [
    {
     "data": {
      "text/plain": [
       "True"
      ]
     },
     "execution_count": 4,
     "metadata": {},
     "output_type": "execute_result"
    }
   ],
   "source": [
    "import tensorflow as tf\n",
    "import numpy as np\n",
    "import cv2\n",
    "\n",
    "interpreter = tf.lite.Interpreter(\n",
    "    model_path=\"lite-model_movenet_singlepose_lightning_3.tflite\"\n",
    ")\n",
    "interpreter.allocate_tensors()\n",
    "\n",
    "\n",
    "def draw_keypoints(frame, keypoints, confidence_threshold):\n",
    "    for kp in keypoints:\n",
    "        ky, kx, kp_conf = kp\n",
    "        cv2.circle(frame, (int(kx), int(ky)), 4, (0, 255, 0), -1)\n",
    "\n",
    "\n",
    "def get_affine_transform_to_fixed_sizes_with_padding(size, new_sizes):\n",
    "    width, height = new_sizes\n",
    "    scale = min(height / float(size[1]), width / float(size[0]))\n",
    "    M = np.float32([[scale, 0, 0], [0, scale, 0]])\n",
    "    M[0][2] = (width - scale * size[0]) / 2\n",
    "    M[1][2] = (height - scale * size[1]) / 2\n",
    "    return M\n",
    "\n",
    "\n",
    "frame = cv2.imread(\"squats-claudia-hold.png\")\n",
    "\n",
    "# Reshape image\n",
    "img = frame.copy()\n",
    "img = tf.image.resize_with_pad(np.expand_dims(img, axis=0), 192, 192)\n",
    "input_image = tf.cast(img, dtype=tf.float32)\n",
    "\n",
    "# Setup input and output\n",
    "input_details = interpreter.get_input_details()\n",
    "output_details = interpreter.get_output_details()\n",
    "\n",
    "# Make predictions\n",
    "interpreter.set_tensor(input_details[0][\"index\"], np.array(input_image))\n",
    "interpreter.invoke()\n",
    "keypoints_with_scores = interpreter.get_tensor(output_details[0][\"index\"])[0, 0]\n",
    "\n",
    "img_resized = np.array(input_image).astype(np.uint8)[0]\n",
    "keypoints_for_resized = keypoints_with_scores.copy()\n",
    "keypoints_for_resized[:, 0] *= img_resized.shape[1]\n",
    "keypoints_for_resized[:, 1] *= img_resized.shape[0]\n",
    "draw_keypoints(img_resized, keypoints_for_resized, 0.4)\n",
    "cv2.imwrite(\"image_with_keypoints_resized.png\", img_resized)\n",
    "\n",
    "orig_w, orig_h = frame.shape[:2]\n",
    "M = get_affine_transform_to_fixed_sizes_with_padding((orig_w, orig_h), (192, 192))\n",
    "# M has shape 2x3 but we need square matrix when finding an inverse\n",
    "M = np.vstack((M, [0, 0, 1]))\n",
    "M_inv = np.linalg.inv(M)[:2]\n",
    "xy_keypoints = keypoints_with_scores[:, :2] * 192\n",
    "xy_keypoints = cv2.transform(np.array([xy_keypoints]), M_inv)[0]\n",
    "keypoints_with_scores = np.hstack((xy_keypoints, keypoints_with_scores[:, 2:]))\n",
    "\n",
    "# Rendering\n",
    "draw_keypoints(frame, keypoints_with_scores, 0.4)\n",
    "cv2.imwrite(\"image_with_keypoints_original.png\", frame) "
   ]
  },
  {
   "cell_type": "code",
   "execution_count": null,
   "id": "084a9ad2-3894-4e2e-b0df-0f5d502f1e14",
   "metadata": {},
   "outputs": [],
   "source": []
  }
 ],
 "metadata": {
  "kernelspec": {
   "display_name": "Python 3",
   "language": "python",
   "name": "python3"
  },
  "language_info": {
   "codemirror_mode": {
    "name": "ipython",
    "version": 3
   },
   "file_extension": ".py",
   "mimetype": "text/x-python",
   "name": "python",
   "nbconvert_exporter": "python",
   "pygments_lexer": "ipython3",
   "version": "3.8.8"
  }
 },
 "nbformat": 4,
 "nbformat_minor": 5
}
