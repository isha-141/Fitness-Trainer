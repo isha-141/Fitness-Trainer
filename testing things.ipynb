{
 "cells": [
  {
   "cell_type": "code",
   "execution_count": 1,
   "id": "75c7e3c5-f6c8-4e98-95fe-90eb3a57126a",
   "metadata": {},
   "outputs": [],
   "source": [
    "# 5 left shoulder, 6 right shoulder, 7 left elbow, 8 right elbow, \n",
    "# 9 left wrist, 10 right wrist, 11 left hip, 12 right hip, 13 left knee, 14 right knee, 15 left ankle, 16 right ankle\n",
    "\n",
    "EDGES = {\n",
    "    (5, 7): 'm',\n",
    "    (7, 9): 'm',\n",
    "    (6, 8): 'c',\n",
    "    (8, 10): 'c',\n",
    "    (5, 6): 'y',\n",
    "    (5, 11): 'm',\n",
    "    (6, 12): 'c',\n",
    "    (11, 12): 'y',\n",
    "    (11, 13): 'm',\n",
    "    (13, 15): 'm',\n",
    "    (12, 14): 'c',\n",
    "    (14, 16): 'c'\n",
    "}"
   ]
  },
  {
   "cell_type": "code",
   "execution_count": null,
   "id": "8939a8ac-afd0-47c8-b7a0-6c9494647689",
   "metadata": {},
   "outputs": [],
   "source": [
    "keypoints[0,1,2,3,4,5,6,7,8,9,10,11]\n"
   ]
  },
  {
   "cell_type": "code",
   "execution_count": 5,
   "id": "77cbabf3-6d60-487e-a385-49db25df969e",
   "metadata": {},
   "outputs": [
    {
     "data": {
      "text/plain": [
       "dict_keys([(5, 7), (7, 9), (6, 8), (8, 10), (5, 6), (5, 11), (6, 12), (11, 12), (11, 13), (13, 15), (12, 14), (14, 16)])"
      ]
     },
     "execution_count": 5,
     "metadata": {},
     "output_type": "execute_result"
    }
   ],
   "source": [
    "EDGES.keys()"
   ]
  },
  {
   "cell_type": "code",
   "execution_count": null,
   "id": "744f1506-6df0-4281-aceb-d5f022422f95",
   "metadata": {},
   "outputs": [],
   "source": [
    "def which_keys(boolean_lst, kps):\n",
    "    kps_new = []\n",
    "    edges_new = {}\n",
    "    need = [False] * 12\n",
    "    only_edges = []\n",
    "    if boolean_list[0]: # angle btwn left wrist, elbow, shoulder\n",
    "        need[4], need[2], need[0] = True, True, True\n",
    "        edges_new[(7, 9)], edges_new[(5, 7)] = 'm', 'm'\n",
    "    if boolean_list[1]: # angle btwn right wrist, elbow, shoulder\n",
    "        need[5], need[3], need[1] = True, True, True\n",
    "        edges_new[(6, 8)], edges_new[(8, 10)] = 'c', 'c'\n",
    "    if boolean_list[2]: # angle btwn left hip, shoulder, elbow\n",
    "        need[6], need[0], need[2] = True, True, True\n",
    "        edges_new[(5, 11)], edges_new[(5, 7)] = 'm', 'm'\n",
    "    if boolean_list[3]: # angle btwn right hip, shoulder, elbow\n",
    "        need[7], need[1], need[3] = True, True, True\n",
    "        edges_new[(6, 8)], edges_new[(6, 12)] = 'c', 'c'\n",
    "    if boolean_list[4]: # angle btwn left hip, knee, ankle\n",
    "        need[6], need[8], need[10] = True, True, True\n",
    "        edges_new[(11, 13)], edges_new[(13, 15)] = 'm', 'm'\n",
    "    if boolean_list[5]: # angle btwn right hip, knee, ankle\n",
    "        need[7], need[9], need[11] = True, True, True\n",
    "        edges_new[(12, 14)], edges_new[(14, 16)] = 'c', 'c'\n",
    "    for i in range(12):\n",
    "        if boolean_list[i]:\n",
    "            kps_new.append(kps[i])\n",
    "    return edges_new, kps"
   ]
  },
  {
   "cell_type": "code",
   "execution_count": 1,
   "id": "f31148a3-c1b5-4b71-adfc-3c0b2c4c07e3",
   "metadata": {},
   "outputs": [
    {
     "data": {
      "text/plain": [
       "{1: 1, 2: 2}"
      ]
     },
     "execution_count": 1,
     "metadata": {},
     "output_type": "execute_result"
    }
   ],
   "source": [
    "need = {}\n",
    "need[1], need[2] = 1, 2\n",
    "need"
   ]
  },
  {
   "cell_type": "code",
   "execution_count": null,
   "id": "ded1b191-db22-47e8-b2bd-c1cd12dfaa2b",
   "metadata": {},
   "outputs": [],
   "source": [
    "lllrrr\n",
    "# angle btwn left wrist, elbow, shoulder\n",
    "    l_angle_1_1 = calculate_angle(l1_shoulder[:2], l1_elbow[:2], l1_wrist[:2])\n",
    "    l_angle_1_2 = calculate_angle(l2_shoulder[:2], l2_elbow[:2], l2_wrist[:2])\n",
    "    \n",
    "    # angle btwn right wrist, elbow, shoulder\n",
    "    r_angle_1_1 = calculate_angle(r1_shoulder[:2], r1_elbow[:2], r1_wrist[:2])\n",
    "    r_angle_1_2 = calculate_angle(r2_shoulder[:2], r2_elbow[:2], r2_wrist[:2])\n",
    "    \n",
    "    # angle btwn left hip, shoulder, elbow\n",
    "    l_angle_2_1 = calculate_angle(l1_elbow[:2], l1_shoulder[:2], l1_hip[:2])\n",
    "    l_angle_2_2 = calculate_angle(l2_elbow[:2], l2_shoulder[:2], l2_hip[:2])\n",
    "    \n",
    "    # angle btwn right hip, shoulder, elbow\n",
    "    r_angle_2_1 = calculate_angle(r1_elbow[:2], r1_shoulder[:2], r1_hip[:2])\n",
    "    r_angle_2_2 = calculate_angle(r2_elbow[:2], r2_shoulder[:2], r2_hip[:2])\n",
    "    \n",
    "    # angle btwn left hip, knee, ankle\n",
    "    l_angle_3_1 = calculate_angle(l1_hip[:2], l1_knee[:2], l1_ankle[:2])\n",
    "    l_angle_3_2 = calculate_angle(l2_hip[:2], l2_knee[:2], l2_ankle[:2])\n",
    "    \n",
    "    # angle btwn right hip, knee, ankle\n",
    "    r_angle_3_1 = calculate_angle(r1_hip[:2], r1_knee[:2], r1_ankle[:2])\n",
    "    r_angle_3_2 = calculate_angle(r2_hip[:2], r2_knee[:2], r2_ankle[:2])"
   ]
  },
  {
   "cell_type": "code",
   "execution_count": 1,
   "id": "fbb3976f-82bd-4362-93c4-08a660e40dd9",
   "metadata": {},
   "outputs": [],
   "source": [
    "import tensorflow as tf\n",
    "import numpy as np\n",
    "from matplotlib import pyplot as plt\n",
    "import cv2\n",
    "import os"
   ]
  },
  {
   "cell_type": "code",
   "execution_count": null,
   "id": "f30dacf5-8e84-4daf-9e84-a37e2b564652",
   "metadata": {},
   "outputs": [],
   "source": []
  }
 ],
 "metadata": {
  "kernelspec": {
   "display_name": "Python 3",
   "language": "python",
   "name": "python3"
  },
  "language_info": {
   "codemirror_mode": {
    "name": "ipython",
    "version": 3
   },
   "file_extension": ".py",
   "mimetype": "text/x-python",
   "name": "python",
   "nbconvert_exporter": "python",
   "pygments_lexer": "ipython3",
   "version": "3.8.8"
  }
 },
 "nbformat": 4,
 "nbformat_minor": 5
}
