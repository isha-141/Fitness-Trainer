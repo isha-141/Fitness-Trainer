{
 "cells": [
  {
   "cell_type": "code",
   "execution_count": 1,
   "id": "36220c40-3f02-4cd4-88d0-f27dc6e5d4fe",
   "metadata": {},
   "outputs": [],
   "source": [
    "import tensorflow as tf\n",
    "import numpy as np\n",
    "from matplotlib import pyplot as plt\n",
    "import cv2\n",
    "import os"
   ]
  },
  {
   "cell_type": "code",
   "execution_count": 2,
   "id": "150cb40b-8b09-4b39-9088-b7c6cd8b13e1",
   "metadata": {},
   "outputs": [],
   "source": [
    "interpreter = tf.lite.Interpreter(model_path='lite-model_movenet_singlepose_lightning_3.tflite')\n",
    "interpreter.allocate_tensors()"
   ]
  },
  {
   "cell_type": "code",
   "execution_count": 12,
   "id": "86d3a131-be04-4c32-a299-38a273beb837",
   "metadata": {},
   "outputs": [],
   "source": [
    "def calculate_angle(a,b,c):\n",
    "    # a is first angle, b is second angle, c is 3rd angle\n",
    "    a = np.array(a)\n",
    "    b = np.array(b)\n",
    "    c = np.array(b)\n",
    "    \n",
    "    radians = np.arctan2(c[1] - b[1], c[0] - b[0]) - np.arctan2(a[1] - b[1], a[0] - b[0])\n",
    "    angle = np.abs(radians * 180.0/np.pi)\n",
    "    #if (angle > 180):\n",
    "       # return 360-angle;\n",
    "    return angle"
   ]
  },
  {
   "cell_type": "code",
   "execution_count": 13,
   "id": "cbad0bba-aa84-420f-9131-fdee1594b46f",
   "metadata": {},
   "outputs": [],
   "source": [
    "def draw_keypoints(frame, keypoints, confidence_threshold):\n",
    "    y, x, c = frame.shape\n",
    "    shaped = np.squeeze(np.multiply(keypoints, [y, x, 1])) # confidence metric c, dont transform that\n",
    "    \n",
    "    for kp in shaped:\n",
    "        ky, kx, kp_conf = kp\n",
    "        if kp_conf > confidence_threshold:\n",
    "            cv2.circle(frame, (int(kx), int(ky)), 4, (0,255,0), -1) #.circle creates circle, 4 is size, 255 is color green, -1 is fill circle"
   ]
  },
  {
   "cell_type": "code",
   "execution_count": 15,
   "id": "98317e9b-94ca-4b1f-b9cc-0da3bdc4eaef",
   "metadata": {},
   "outputs": [],
   "source": [
    "# nose 0, left eye 1, right eye 2, left ear 3, right ear 4, \n",
    "# left shoulder 5, right shoulder 6, left elbow 7, right elbow 8, \n",
    "# left wrist 9, right wrist 10, left hip 11, right hip 12, left knee 13, right knee 14, left ankle 15, right ankle 16\n",
    "# elbow, shoulder, hip, ankle"
   ]
  },
  {
   "cell_type": "code",
   "execution_count": 5,
   "id": "a3e2dd3e-2fd7-41cb-b39b-d5fb7c697c47",
   "metadata": {},
   "outputs": [],
   "source": [
    "EDGES = {\n",
    "    (5, 7): 'm',\n",
    "    (7, 9): 'm',\n",
    "    (6, 8): 'c',\n",
    "    (8, 10): 'c',\n",
    "    (5, 6): 'y',\n",
    "    (5, 11): 'm',\n",
    "    (6, 12): 'c',\n",
    "    (11, 12): 'y',\n",
    "    (11, 13): 'm',\n",
    "    (13, 15): 'm',\n",
    "    (12, 14): 'c',\n",
    "    (14, 16): 'c'\n",
    "}"
   ]
  },
  {
   "cell_type": "code",
   "execution_count": 6,
   "id": "60a458ca-58d2-437e-bf4b-8288ab1af4a7",
   "metadata": {},
   "outputs": [],
   "source": [
    "def draw_connections(frame, keypoints, edges, confidence_threshold):\n",
    "    y, x, c = frame.shape\n",
    "    shaped = np.squeeze(np.multiply(keypoints, [y,x,1]))\n",
    "    \n",
    "    for edge, color in edges.items():\n",
    "        p1, p2 = edge\n",
    "        y1, x1, c1 = shaped[p1-5]\n",
    "        y2, x2, c2 = shaped[p2-5]\n",
    "        \n",
    "        if (c1 > confidence_threshold) & (c2 > confidence_threshold):      \n",
    "            cv2.line(frame, (int(x1), int(y1)), (int(x2), int(y2)), (0,0,255), 2)"
   ]
  },
  {
   "cell_type": "code",
   "execution_count": 16,
   "id": "b73e9316-2086-4a10-ba52-eadaa060a83c",
   "metadata": {},
   "outputs": [
    {
     "name": "stdout",
     "output_type": "stream",
     "text": [
      "[147.00199509079073, 140.98025443169738]\n",
      "[113.897919165004, 114.67429993777019]\n"
     ]
    }
   ],
   "source": [
    "frame = cv2.imread(\"squats-claudia-hold.png\")\n",
    "img = frame.copy()\n",
    "\n",
    "img = tf.image.resize_with_pad(tf.expand_dims(img, axis = 0), 192, 192)\n",
    "input_image = tf.cast(img, dtype=tf.float32)\n",
    "        \n",
    "input_details = interpreter.get_input_details()\n",
    "output_details = interpreter.get_output_details()\n",
    "\n",
    "interpreter.set_tensor(input_details[0]['index'], np.array(input_image))\n",
    "interpreter.invoke()\n",
    "kyps_w_scores = interpreter.get_tensor(output_details[0]['index'])\n",
    "        # end of taking coordinates\n",
    "\n",
    "        # 5,6 shoulder; 7,8 elbow; 11,12 hip; 13,14 knee; 15,16 ankle\n",
    "        # 0,1           2,3         6,7        8,9        10,11\n",
    "        # sectioning off all scores were interested in\n",
    "\"\"\"wanted_scores = kyps_w_scores[0][0][5:]\n",
    "        # all angles for hands - 1st left shoulder, hip, knee\n",
    "back_angle = [calculate_angle(wanted_scores[0], wanted_scores[6], wanted_scores[8])] + [calculate_angle(wanted_scores[1], wanted_scores[7], wanted_scores[9])]\n",
    "        # all angles for legs - 1st left hip, knee, ankle\n",
    "knee_angle = [calculate_angle(wanted_scores[6], wanted_scores[8], wanted_scores[10])] + [calculate_angle(wanted_scores[1], wanted_scores[7], wanted_scores[11])]\n",
    "\"\"\"\n",
    "\n",
    "wanted_scores = kyps_w_scores[0][0][0:]\n",
    "        # all angles for hands - 1st left shoulder, hip, knee\n",
    "back_angle = [calculate_angle(wanted_scores[5], wanted_scores[11], wanted_scores[15])] + [calculate_angle(wanted_scores[6], wanted_scores[12], wanted_scores[16])]\n",
    "        # all angles for legs - 1st left hip, knee, ankle\n",
    "knee_angle = [calculate_angle(wanted_scores[11], wanted_scores[13], wanted_scores[15])] + [calculate_angle(wanted_scores[12], wanted_scores[14], wanted_scores[16])]\n",
    "\n",
    "\n",
    "print(back_angle)\n",
    "print(knee_angle)\n",
    "\n",
    "# draw_keypoints(frame, wanted_scores, 0.4)\n",
    "# draw_connections(frame, wanted_scores, EDGES, 0.4)\n",
    "\n",
    "# cv2.imwrite(\"image_w_resized.png\", frame)\n",
    "        \n",
    "cv2.destroyAllWindows()"
   ]
  },
  {
   "cell_type": "code",
   "execution_count": null,
   "id": "c82be3b3-569e-4f44-a398-8a7892407442",
   "metadata": {},
   "outputs": [],
   "source": [
    "[147.00199509079073, 140.98025443169738]\n",
    "[113.897919165004, 140.98025443169738]"
   ]
  },
  {
   "cell_type": "code",
   "execution_count": null,
   "id": "d58cb920-0820-4835-bb8a-16f5dcef2c97",
   "metadata": {},
   "outputs": [],
   "source": [
    "[147.00199509079073, 140.98025443169738]\n",
    "[113.897919165004, 114.67429993777019]"
   ]
  }
 ],
 "metadata": {
  "kernelspec": {
   "display_name": "Python 3",
   "language": "python",
   "name": "python3"
  },
  "language_info": {
   "codemirror_mode": {
    "name": "ipython",
    "version": 3
   },
   "file_extension": ".py",
   "mimetype": "text/x-python",
   "name": "python",
   "nbconvert_exporter": "python",
   "pygments_lexer": "ipython3",
   "version": "3.8.8"
  }
 },
 "nbformat": 4,
 "nbformat_minor": 5
}
