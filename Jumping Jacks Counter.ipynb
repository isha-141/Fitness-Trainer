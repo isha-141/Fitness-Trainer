{
 "cells": [
  {
   "cell_type": "code",
   "execution_count": 1,
   "id": "285c60e7-9f77-488b-9dad-858ead582e85",
   "metadata": {},
   "outputs": [],
   "source": [
    "import tensorflow as tf\n",
    "import numpy as np\n",
    "from matplotlib import pyplot as plt\n",
    "import cv2\n",
    "import os"
   ]
  },
  {
   "cell_type": "code",
   "execution_count": 2,
   "id": "2752ee31-38fb-47bf-ae17-77a527e29c76",
   "metadata": {},
   "outputs": [],
   "source": [
    "interpreter = tf.lite.Interpreter(model_path='lite-model_movenet_singlepose_lightning_3.tflite')\n",
    "interpreter.allocate_tensors()"
   ]
  },
  {
   "cell_type": "code",
   "execution_count": 3,
   "id": "5db2d2c5-bf60-4121-9bdf-b1351124a083",
   "metadata": {},
   "outputs": [],
   "source": [
    "def calculate_angle(a,b,c):\n",
    "    # a is first angle, b is second angle, c is 3rd angle\n",
    "    a = np.array(a)\n",
    "    b = np.array(b)\n",
    "    c = np.array(b)\n",
    "    \n",
    "    radians = np.arctan2(c[1] - b[1], c[0] - b[0]) - np.arctan2(a[1] - b[1], a[0] - b[0])\n",
    "    angle = np.abs(radians * 180.0/np.pi)\n",
    "    if (angle > 180):\n",
    "        return 360-angle;\n",
    "    return angle"
   ]
  },
  {
   "cell_type": "code",
   "execution_count": 4,
   "id": "dbe3bb68-3e98-43c9-a8f9-076d40079bf4",
   "metadata": {},
   "outputs": [],
   "source": [
    "def draw_keypoints(frame, keypoints, confidence_threshold):\n",
    "    y, x, c = frame.shape\n",
    "    shaped = np.squeeze(np.multiply(keypoints, [y, x, 1])) # confidence metric c, dont transform that\n",
    "    \n",
    "    for kp in shaped:\n",
    "        ky, kx, kp_conf = kp\n",
    "        if kp_conf > confidence_threshold:\n",
    "            cv2.circle(frame, (int(kx), int(ky)), 4, (0,255,0), -1) #.circle creates circle, 4 is size, 255 is color green, -1 is fill circle"
   ]
  },
  {
   "cell_type": "code",
   "execution_count": 5,
   "id": "59762638-5a2b-4f0b-99d3-106cbe441b44",
   "metadata": {},
   "outputs": [],
   "source": [
    "# nose 0, left eye 1, right eye 2, left ear 3, right ear 4, \n",
    "# left shoulder 5, right shoulder 6, left elbow 7, right elbow 8, \n",
    "# left wrist 9, right wrist 10, left hip 11, right hip 12, left knee 13, right knee 14, left ankle 15, right ankle 16\n",
    "# elbow, shoulder, hip, ankle"
   ]
  },
  {
   "cell_type": "code",
   "execution_count": 6,
   "id": "972a6fc7-4ac6-407c-ba79-bf67d41a2d64",
   "metadata": {},
   "outputs": [],
   "source": [
    "EDGES = {\n",
    "    (5, 7): 'm',\n",
    "    (7, 9): 'm',\n",
    "    (6, 8): 'c',\n",
    "    (8, 10): 'c',\n",
    "    (5, 6): 'y',\n",
    "    (5, 11): 'm',\n",
    "    (6, 12): 'c',\n",
    "    (11, 12): 'y',\n",
    "    (11, 13): 'm',\n",
    "    (13, 15): 'm',\n",
    "    (12, 14): 'c',\n",
    "    (14, 16): 'c'\n",
    "}"
   ]
  },
  {
   "cell_type": "code",
   "execution_count": 7,
   "id": "ca1d40ce-f2d3-41f2-981f-af9241f79193",
   "metadata": {},
   "outputs": [],
   "source": [
    "def draw_connections(frame, keypoints, edges, confidence_threshold):\n",
    "    y, x, c = frame.shape\n",
    "    shaped = np.squeeze(np.multiply(keypoints, [y,x,1]))\n",
    "    \n",
    "    for edge, color in edges.items():\n",
    "        p1, p2 = edge\n",
    "        y1, x1, c1 = shaped[p1-5]\n",
    "        y2, x2, c2 = shaped[p2-5]\n",
    "        \n",
    "        if (c1 > confidence_threshold) & (c2 > confidence_threshold):      \n",
    "            cv2.line(frame, (int(x1), int(y1)), (int(x2), int(y2)), (0,0,255), 2)"
   ]
  },
  {
   "cell_type": "code",
   "execution_count": 54,
   "id": "a501c1ea-2084-45e8-83da-111e7476ae6f",
   "metadata": {},
   "outputs": [],
   "source": [
    "def test():\n",
    "    l_one = [] # l = the last frame recorded\n",
    "    l_l_one = [] # the last last frame recorded\n",
    "    went_down = True\n",
    "    jj_count = 0\n",
    "    h_angle = [[0,0], [0,0]] # each row is left & rt, each column is up & down \n",
    "    l_angle = [[0,0], [0,0]] # 2 arrays containing each hand angle and leg angle\n",
    "    frame_idx = 0 \n",
    "    cap = cv2.VideoCapture(0)\n",
    "    while cap.isOpened():\n",
    "        # take frame from open cv video capture\n",
    "        ret, frame = cap.read()\n",
    "        img = frame.copy()\n",
    "        #start of taking coordinates\n",
    "        img = tf.image.resize_with_pad(tf.expand_dims(img, axis = 0), 192, 192)\n",
    "        input_image = tf.cast(img, dtype=tf.float32)\n",
    "        \n",
    "        input_details = interpreter.get_input_details()\n",
    "        output_details = interpreter.get_output_details()\n",
    "\n",
    "        interpreter.set_tensor(input_details[0]['index'], np.array(input_image))\n",
    "        interpreter.invoke()\n",
    "        kyps_w_scores = interpreter.get_tensor(output_details[0]['index'])\n",
    "        # end of taking coordinates\n",
    "\n",
    "        # 5,6 shoulder; 7,8 elbow; 11,12 hip; 15,16 ankle\n",
    "        # sectioning off all scores were interested in\n",
    "        wanted_scores = kyps_w_scores[0][0][5:]\n",
    "        # all angles for hands\n",
    "        underarm_angle = [calculate_angle(wanted_scores[2], wanted_scores[0], wanted_scores[6])] + [calculate_angle(wanted_scores[3], wanted_scores[1], wanted_scores[7])]\n",
    "        # all angles for legs\n",
    "        leg_angle = [calculate_angle(wanted_scores[0], wanted_scores[6], wanted_scores[10])] + [calculate_angle(wanted_scores[1], wanted_scores[7], wanted_scores[11])]\n",
    "        \n",
    "        # setting the 2 arrays to the first 2 frames\n",
    "        if (frame_idx < 2):\n",
    "            l_l_one = l_one\n",
    "            l_one = [underarm_angle, leg_angle]\n",
    "            frame_idx += 1\n",
    "            continue\n",
    "            \n",
    "        # went dowm for if the hands went down (not properly checking)\n",
    "        # if hands alr went down\n",
    "        # if last last underarm < last underarm and last underarm > current (then it's going back up)\n",
    "        # if up angle > 130 and bottom < 30\n",
    "        if (went_down and l_one[0][0] > 130 and l_l_one[0][0] < l_one[0][0]  and l_one[0][0] > underarm_angle[0]):\n",
    "            print(underarm_angle[0])\n",
    "            jj_count += 1\n",
    "            went_down = False\n",
    "            # print(jj_count)\n",
    "        elif (went_down == False and l_one[0][0] < 30 and l_l_one[0][0] > l_one[0][0]  and l_one[0][0] < underarm_angle[0]):\n",
    "            print(underarm_angle[0])\n",
    "            went_down = True\n",
    "        \n",
    "        l_l_one = l_one\n",
    "        l_one = [underarm_angle, leg_angle]\n",
    "        \"\"\"cv2.putText(frame,  \n",
    "                str(underarm_angle[0]),  \n",
    "                (50, 50),  \n",
    "                cv2.FONT_HERSHEY_SIMPLEX, 1,  \n",
    "                (0, 255, 255),  \n",
    "                2,  \n",
    "                cv2.LINE_4)\"\"\"\n",
    "        full_text_for_jj = \"Jumping Jacks: \" + str(jj_count)\n",
    "        cv2.putText(frame,  \n",
    "                full_text_for_jj,  \n",
    "                (50, 50),  \n",
    "                cv2.FONT_HERSHEY_SIMPLEX, 1,  \n",
    "                (0, 0, 0),  \n",
    "                3,  \n",
    "                cv2.LINE_4)\n",
    "        draw_keypoints(frame, wanted_scores, 0.5)\n",
    "        draw_connections(frame, wanted_scores, EDGES, 0.5)\n",
    "        cv2.imshow('Feed', frame)\n",
    "        if cv2.waitKey(10) & 0xFF == ord('q'):\n",
    "            break\n",
    "        \n",
    "    cap.release()\n",
    "    cv2.destroyAllWindows()\n",
    "    # h_avg_up = h_angle_up / jj_count\n",
    "    # h_avg_down = h_angle_down / jj_count\n",
    "    # l_avg_up = l_angle_up / jj_count\n",
    "    # l_avg_down = l_angle_down / jj_count\n",
    "    return #h_avg_up, h_avg_down, l_avg_up, l_avg_down"
   ]
  },
  {
   "cell_type": "code",
   "execution_count": 55,
   "id": "4f52c1da-0031-4de3-9ff3-8ffe5acee238",
   "metadata": {},
   "outputs": [],
   "source": [
    "test()"
   ]
  },
  {
   "cell_type": "code",
   "execution_count": null,
   "id": "dc815267-c80a-4c80-ac6c-06b0e761b19e",
   "metadata": {},
   "outputs": [],
   "source": []
  }
 ],
 "metadata": {
  "kernelspec": {
   "display_name": "Python 3",
   "language": "python",
   "name": "python3"
  },
  "language_info": {
   "codemirror_mode": {
    "name": "ipython",
    "version": 3
   },
   "file_extension": ".py",
   "mimetype": "text/x-python",
   "name": "python",
   "nbconvert_exporter": "python",
   "pygments_lexer": "ipython3",
   "version": "3.8.8"
  }
 },
 "nbformat": 4,
 "nbformat_minor": 5
}
